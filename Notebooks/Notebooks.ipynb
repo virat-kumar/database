{
 "cells": [
  {
   "cell_type": "code",
   "execution_count": 1,
   "id": "9d8276a7",
   "metadata": {},
   "outputs": [
    {
     "name": "stdout",
     "output_type": "stream",
     "text": [
      "Database utility module imported successfully!\n",
      "Available functions: get_engine(), query_to_dataframe()\n"
     ]
    }
   ],
   "source": [
    "# Import the database utility module\n",
    "import sys\n",
    "sys.path.append('..')  # Add parent directory to path\n",
    "\n",
    "from connect_database import get_engine, query_to_dataframe\n",
    "\n",
    "print(\"Database utility module imported successfully!\")\n",
    "print(\"Available functions: get_engine(), query_to_dataframe()\")"
   ]
  },
  {
   "cell_type": "markdown",
   "id": "03ae7efc",
   "metadata": {},
   "source": [
    "# Question 1: RecipeDB Query\n",
    "\n",
    "**Problem**: Write a query to retrieve the 'RecipeTitle' and 'IngredientName' for each ingredient used in the 'Fettuccini Alfredo' recipe (from 'recipes' and 'ingredients' tables).\n",
    "\n",
    "**Hint**: 3 tables used in join\n",
    "\n",
    "**Tables involved**:\n",
    "- `recipes` - contains RecipeTitle and RecipeID\n",
    "- `recipe_ingredients` - junction table linking recipes to ingredients\n",
    "- `ingredients` - contains IngredientName"
   ]
  },
  {
   "cell_type": "code",
   "execution_count": 2,
   "id": "582117e8",
   "metadata": {},
   "outputs": [
    {
     "name": "stdout",
     "output_type": "stream",
     "text": [
      "[SUCCESS] SQLAlchemy engine created for: recipedb\n",
      "\n",
      "Ready to execute queries on RecipeDB!\n"
     ]
    }
   ],
   "source": [
    "# Connect to RecipeDB\n",
    "engine = get_engine(database='recipedb', verbose=True)\n",
    "\n",
    "print(\"\\nReady to execute queries on RecipeDB!\")"
   ]
  },
  {
   "cell_type": "code",
   "execution_count": 3,
   "id": "bb9d71fb",
   "metadata": {},
   "outputs": [
    {
     "name": "stdout",
     "output_type": "stream",
     "text": [
      "Found 7 ingredients for 'Fettuccini Alfredo' recipe:\n",
      "\n",
      "============================================================\n",
      "       RecipeTitle        IngredientName\n",
      "Fettuccini Alfredo      Fettuccini Pasta\n",
      "Fettuccini Alfredo         Vegetable Oil\n",
      "Fettuccini Alfredo                  Salt\n",
      "Fettuccini Alfredo                Butter\n",
      "Fettuccini Alfredo           Heavy Cream\n",
      "Fettuccini Alfredo       Parmesan Cheese\n",
      "Fettuccini Alfredo White Pepper (ground)\n",
      "============================================================\n"
     ]
    },
    {
     "data": {
      "text/html": [
       "<div>\n",
       "<style scoped>\n",
       "    .dataframe tbody tr th:only-of-type {\n",
       "        vertical-align: middle;\n",
       "    }\n",
       "\n",
       "    .dataframe tbody tr th {\n",
       "        vertical-align: top;\n",
       "    }\n",
       "\n",
       "    .dataframe thead th {\n",
       "        text-align: right;\n",
       "    }\n",
       "</style>\n",
       "<table border=\"1\" class=\"dataframe\">\n",
       "  <thead>\n",
       "    <tr style=\"text-align: right;\">\n",
       "      <th></th>\n",
       "      <th>RecipeTitle</th>\n",
       "      <th>IngredientName</th>\n",
       "    </tr>\n",
       "  </thead>\n",
       "  <tbody>\n",
       "    <tr>\n",
       "      <th>0</th>\n",
       "      <td>Fettuccini Alfredo</td>\n",
       "      <td>Fettuccini Pasta</td>\n",
       "    </tr>\n",
       "    <tr>\n",
       "      <th>1</th>\n",
       "      <td>Fettuccini Alfredo</td>\n",
       "      <td>Vegetable Oil</td>\n",
       "    </tr>\n",
       "    <tr>\n",
       "      <th>2</th>\n",
       "      <td>Fettuccini Alfredo</td>\n",
       "      <td>Salt</td>\n",
       "    </tr>\n",
       "    <tr>\n",
       "      <th>3</th>\n",
       "      <td>Fettuccini Alfredo</td>\n",
       "      <td>Butter</td>\n",
       "    </tr>\n",
       "    <tr>\n",
       "      <th>4</th>\n",
       "      <td>Fettuccini Alfredo</td>\n",
       "      <td>Heavy Cream</td>\n",
       "    </tr>\n",
       "    <tr>\n",
       "      <th>5</th>\n",
       "      <td>Fettuccini Alfredo</td>\n",
       "      <td>Parmesan Cheese</td>\n",
       "    </tr>\n",
       "    <tr>\n",
       "      <th>6</th>\n",
       "      <td>Fettuccini Alfredo</td>\n",
       "      <td>White Pepper (ground)</td>\n",
       "    </tr>\n",
       "  </tbody>\n",
       "</table>\n",
       "</div>"
      ],
      "text/plain": [
       "          RecipeTitle         IngredientName\n",
       "0  Fettuccini Alfredo       Fettuccini Pasta\n",
       "1  Fettuccini Alfredo          Vegetable Oil\n",
       "2  Fettuccini Alfredo                   Salt\n",
       "3  Fettuccini Alfredo                 Butter\n",
       "4  Fettuccini Alfredo            Heavy Cream\n",
       "5  Fettuccini Alfredo        Parmesan Cheese\n",
       "6  Fettuccini Alfredo  White Pepper (ground)"
      ]
     },
     "execution_count": 3,
     "metadata": {},
     "output_type": "execute_result"
    }
   ],
   "source": [
    "# SQL Query Solution\n",
    "query = \"\"\"\n",
    "SELECT \n",
    "    r.RecipeTitle,\n",
    "    i.IngredientName\n",
    "FROM \n",
    "    recipes r\n",
    "INNER JOIN \n",
    "    recipe_ingredients ri ON r.RecipeID = ri.RecipeID\n",
    "INNER JOIN \n",
    "    ingredients i ON ri.IngredientID = i.IngredientID\n",
    "WHERE \n",
    "    r.RecipeTitle = 'Fettuccini Alfredo'\n",
    "ORDER BY \n",
    "    ri.RecipeSeqNo;\n",
    "\"\"\"\n",
    "\n",
    "# Execute query and get results as DataFrame\n",
    "df = query_to_dataframe(engine, query)\n",
    "\n",
    "# Display results\n",
    "print(f\"Found {len(df)} ingredients for 'Fettuccini Alfredo' recipe:\\n\")\n",
    "print(\"=\"*60)\n",
    "print(df.to_string(index=False))\n",
    "print(\"=\"*60)\n",
    "\n",
    "# Also display as DataFrame for better visualization\n",
    "df"
   ]
  }
 ],
 "metadata": {
  "kernelspec": {
   "display_name": "Python 3",
   "language": "python",
   "name": "python3"
  },
  "language_info": {
   "codemirror_mode": {
    "name": "ipython",
    "version": 3
   },
   "file_extension": ".py",
   "mimetype": "text/x-python",
   "name": "python",
   "nbconvert_exporter": "python",
   "pygments_lexer": "ipython3",
   "version": "3.13.5"
  }
 },
 "nbformat": 4,
 "nbformat_minor": 5
}
